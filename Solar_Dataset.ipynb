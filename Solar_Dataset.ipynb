{
  "nbformat": 4,
  "nbformat_minor": 0,
  "metadata": {
    "colab": {
      "name": "Solar Dataset",
      "provenance": [],
      "collapsed_sections": [],
      "authorship_tag": "ABX9TyNZnuMw0M6pow4gGfBFcCDj",
      "include_colab_link": true
    },
    "kernelspec": {
      "name": "python3",
      "display_name": "Python 3"
    }
  },
  "cells": [
    {
      "cell_type": "markdown",
      "metadata": {
        "id": "view-in-github",
        "colab_type": "text"
      },
      "source": [
        "<a href=\"https://colab.research.google.com/github/gautumsvp7/SolarDataSetPublic/blob/main/Solar_Dataset.ipynb\" target=\"_parent\"><img src=\"https://colab.research.google.com/assets/colab-badge.svg\" alt=\"Open In Colab\"/></a>"
      ]
    },
    {
      "cell_type": "code",
      "metadata": {
        "colab": {
          "resources": {
            "http://localhost:8080/nbextensions/google.colab/files.js": {
              "data": "Ly8gQ29weXJpZ2h0IDIwMTcgR29vZ2xlIExMQwovLwovLyBMaWNlbnNlZCB1bmRlciB0aGUgQXBhY2hlIExpY2Vuc2UsIFZlcnNpb24gMi4wICh0aGUgIkxpY2Vuc2UiKTsKLy8geW91IG1heSBub3QgdXNlIHRoaXMgZmlsZSBleGNlcHQgaW4gY29tcGxpYW5jZSB3aXRoIHRoZSBMaWNlbnNlLgovLyBZb3UgbWF5IG9idGFpbiBhIGNvcHkgb2YgdGhlIExpY2Vuc2UgYXQKLy8KLy8gICAgICBodHRwOi8vd3d3LmFwYWNoZS5vcmcvbGljZW5zZXMvTElDRU5TRS0yLjAKLy8KLy8gVW5sZXNzIHJlcXVpcmVkIGJ5IGFwcGxpY2FibGUgbGF3IG9yIGFncmVlZCB0byBpbiB3cml0aW5nLCBzb2Z0d2FyZQovLyBkaXN0cmlidXRlZCB1bmRlciB0aGUgTGljZW5zZSBpcyBkaXN0cmlidXRlZCBvbiBhbiAiQVMgSVMiIEJBU0lTLAovLyBXSVRIT1VUIFdBUlJBTlRJRVMgT1IgQ09ORElUSU9OUyBPRiBBTlkgS0lORCwgZWl0aGVyIGV4cHJlc3Mgb3IgaW1wbGllZC4KLy8gU2VlIHRoZSBMaWNlbnNlIGZvciB0aGUgc3BlY2lmaWMgbGFuZ3VhZ2UgZ292ZXJuaW5nIHBlcm1pc3Npb25zIGFuZAovLyBsaW1pdGF0aW9ucyB1bmRlciB0aGUgTGljZW5zZS4KCi8qKgogKiBAZmlsZW92ZXJ2aWV3IEhlbHBlcnMgZm9yIGdvb2dsZS5jb2xhYiBQeXRob24gbW9kdWxlLgogKi8KKGZ1bmN0aW9uKHNjb3BlKSB7CmZ1bmN0aW9uIHNwYW4odGV4dCwgc3R5bGVBdHRyaWJ1dGVzID0ge30pIHsKICBjb25zdCBlbGVtZW50ID0gZG9jdW1lbnQuY3JlYXRlRWxlbWVudCgnc3BhbicpOwogIGVsZW1lbnQudGV4dENvbnRlbnQgPSB0ZXh0OwogIGZvciAoY29uc3Qga2V5IG9mIE9iamVjdC5rZXlzKHN0eWxlQXR0cmlidXRlcykpIHsKICAgIGVsZW1lbnQuc3R5bGVba2V5XSA9IHN0eWxlQXR0cmlidXRlc1trZXldOwogIH0KICByZXR1cm4gZWxlbWVudDsKfQoKLy8gTWF4IG51bWJlciBvZiBieXRlcyB3aGljaCB3aWxsIGJlIHVwbG9hZGVkIGF0IGEgdGltZS4KY29uc3QgTUFYX1BBWUxPQURfU0laRSA9IDEwMCAqIDEwMjQ7CgpmdW5jdGlvbiBfdXBsb2FkRmlsZXMoaW5wdXRJZCwgb3V0cHV0SWQpIHsKICBjb25zdCBzdGVwcyA9IHVwbG9hZEZpbGVzU3RlcChpbnB1dElkLCBvdXRwdXRJZCk7CiAgY29uc3Qgb3V0cHV0RWxlbWVudCA9IGRvY3VtZW50LmdldEVsZW1lbnRCeUlkKG91dHB1dElkKTsKICAvLyBDYWNoZSBzdGVwcyBvbiB0aGUgb3V0cHV0RWxlbWVudCB0byBtYWtlIGl0IGF2YWlsYWJsZSBmb3IgdGhlIG5leHQgY2FsbAogIC8vIHRvIHVwbG9hZEZpbGVzQ29udGludWUgZnJvbSBQeXRob24uCiAgb3V0cHV0RWxlbWVudC5zdGVwcyA9IHN0ZXBzOwoKICByZXR1cm4gX3VwbG9hZEZpbGVzQ29udGludWUob3V0cHV0SWQpOwp9CgovLyBUaGlzIGlzIHJvdWdobHkgYW4gYXN5bmMgZ2VuZXJhdG9yIChub3Qgc3VwcG9ydGVkIGluIHRoZSBicm93c2VyIHlldCksCi8vIHdoZXJlIHRoZXJlIGFyZSBtdWx0aXBsZSBhc3luY2hyb25vdXMgc3RlcHMgYW5kIHRoZSBQeXRob24gc2lkZSBpcyBnb2luZwovLyB0byBwb2xsIGZvciBjb21wbGV0aW9uIG9mIGVhY2ggc3RlcC4KLy8gVGhpcyB1c2VzIGEgUHJvbWlzZSB0byBibG9jayB0aGUgcHl0aG9uIHNpZGUgb24gY29tcGxldGlvbiBvZiBlYWNoIHN0ZXAsCi8vIHRoZW4gcGFzc2VzIHRoZSByZXN1bHQgb2YgdGhlIHByZXZpb3VzIHN0ZXAgYXMgdGhlIGlucHV0IHRvIHRoZSBuZXh0IHN0ZXAuCmZ1bmN0aW9uIF91cGxvYWRGaWxlc0NvbnRpbnVlKG91dHB1dElkKSB7CiAgY29uc3Qgb3V0cHV0RWxlbWVudCA9IGRvY3VtZW50LmdldEVsZW1lbnRCeUlkKG91dHB1dElkKTsKICBjb25zdCBzdGVwcyA9IG91dHB1dEVsZW1lbnQuc3RlcHM7CgogIGNvbnN0IG5leHQgPSBzdGVwcy5uZXh0KG91dHB1dEVsZW1lbnQubGFzdFByb21pc2VWYWx1ZSk7CiAgcmV0dXJuIFByb21pc2UucmVzb2x2ZShuZXh0LnZhbHVlLnByb21pc2UpLnRoZW4oKHZhbHVlKSA9PiB7CiAgICAvLyBDYWNoZSB0aGUgbGFzdCBwcm9taXNlIHZhbHVlIHRvIG1ha2UgaXQgYXZhaWxhYmxlIHRvIHRoZSBuZXh0CiAgICAvLyBzdGVwIG9mIHRoZSBnZW5lcmF0b3IuCiAgICBvdXRwdXRFbGVtZW50Lmxhc3RQcm9taXNlVmFsdWUgPSB2YWx1ZTsKICAgIHJldHVybiBuZXh0LnZhbHVlLnJlc3BvbnNlOwogIH0pOwp9CgovKioKICogR2VuZXJhdG9yIGZ1bmN0aW9uIHdoaWNoIGlzIGNhbGxlZCBiZXR3ZWVuIGVhY2ggYXN5bmMgc3RlcCBvZiB0aGUgdXBsb2FkCiAqIHByb2Nlc3MuCiAqIEBwYXJhbSB7c3RyaW5nfSBpbnB1dElkIEVsZW1lbnQgSUQgb2YgdGhlIGlucHV0IGZpbGUgcGlja2VyIGVsZW1lbnQuCiAqIEBwYXJhbSB7c3RyaW5nfSBvdXRwdXRJZCBFbGVtZW50IElEIG9mIHRoZSBvdXRwdXQgZGlzcGxheS4KICogQHJldHVybiB7IUl0ZXJhYmxlPCFPYmplY3Q+fSBJdGVyYWJsZSBvZiBuZXh0IHN0ZXBzLgogKi8KZnVuY3Rpb24qIHVwbG9hZEZpbGVzU3RlcChpbnB1dElkLCBvdXRwdXRJZCkgewogIGNvbnN0IGlucHV0RWxlbWVudCA9IGRvY3VtZW50LmdldEVsZW1lbnRCeUlkKGlucHV0SWQpOwogIGlucHV0RWxlbWVudC5kaXNhYmxlZCA9IGZhbHNlOwoKICBjb25zdCBvdXRwdXRFbGVtZW50ID0gZG9jdW1lbnQuZ2V0RWxlbWVudEJ5SWQob3V0cHV0SWQpOwogIG91dHB1dEVsZW1lbnQuaW5uZXJIVE1MID0gJyc7CgogIGNvbnN0IHBpY2tlZFByb21pc2UgPSBuZXcgUHJvbWlzZSgocmVzb2x2ZSkgPT4gewogICAgaW5wdXRFbGVtZW50LmFkZEV2ZW50TGlzdGVuZXIoJ2NoYW5nZScsIChlKSA9PiB7CiAgICAgIHJlc29sdmUoZS50YXJnZXQuZmlsZXMpOwogICAgfSk7CiAgfSk7CgogIGNvbnN0IGNhbmNlbCA9IGRvY3VtZW50LmNyZWF0ZUVsZW1lbnQoJ2J1dHRvbicpOwogIGlucHV0RWxlbWVudC5wYXJlbnRFbGVtZW50LmFwcGVuZENoaWxkKGNhbmNlbCk7CiAgY2FuY2VsLnRleHRDb250ZW50ID0gJ0NhbmNlbCB1cGxvYWQnOwogIGNvbnN0IGNhbmNlbFByb21pc2UgPSBuZXcgUHJvbWlzZSgocmVzb2x2ZSkgPT4gewogICAgY2FuY2VsLm9uY2xpY2sgPSAoKSA9PiB7CiAgICAgIHJlc29sdmUobnVsbCk7CiAgICB9OwogIH0pOwoKICAvLyBXYWl0IGZvciB0aGUgdXNlciB0byBwaWNrIHRoZSBmaWxlcy4KICBjb25zdCBmaWxlcyA9IHlpZWxkIHsKICAgIHByb21pc2U6IFByb21pc2UucmFjZShbcGlja2VkUHJvbWlzZSwgY2FuY2VsUHJvbWlzZV0pLAogICAgcmVzcG9uc2U6IHsKICAgICAgYWN0aW9uOiAnc3RhcnRpbmcnLAogICAgfQogIH07CgogIGNhbmNlbC5yZW1vdmUoKTsKCiAgLy8gRGlzYWJsZSB0aGUgaW5wdXQgZWxlbWVudCBzaW5jZSBmdXJ0aGVyIHBpY2tzIGFyZSBub3QgYWxsb3dlZC4KICBpbnB1dEVsZW1lbnQuZGlzYWJsZWQgPSB0cnVlOwoKICBpZiAoIWZpbGVzKSB7CiAgICByZXR1cm4gewogICAgICByZXNwb25zZTogewogICAgICAgIGFjdGlvbjogJ2NvbXBsZXRlJywKICAgICAgfQogICAgfTsKICB9CgogIGZvciAoY29uc3QgZmlsZSBvZiBmaWxlcykgewogICAgY29uc3QgbGkgPSBkb2N1bWVudC5jcmVhdGVFbGVtZW50KCdsaScpOwogICAgbGkuYXBwZW5kKHNwYW4oZmlsZS5uYW1lLCB7Zm9udFdlaWdodDogJ2JvbGQnfSkpOwogICAgbGkuYXBwZW5kKHNwYW4oCiAgICAgICAgYCgke2ZpbGUudHlwZSB8fCAnbi9hJ30pIC0gJHtmaWxlLnNpemV9IGJ5dGVzLCBgICsKICAgICAgICBgbGFzdCBtb2RpZmllZDogJHsKICAgICAgICAgICAgZmlsZS5sYXN0TW9kaWZpZWREYXRlID8gZmlsZS5sYXN0TW9kaWZpZWREYXRlLnRvTG9jYWxlRGF0ZVN0cmluZygpIDoKICAgICAgICAgICAgICAgICAgICAgICAgICAgICAgICAgICAgJ24vYSd9IC0gYCkpOwogICAgY29uc3QgcGVyY2VudCA9IHNwYW4oJzAlIGRvbmUnKTsKICAgIGxpLmFwcGVuZENoaWxkKHBlcmNlbnQpOwoKICAgIG91dHB1dEVsZW1lbnQuYXBwZW5kQ2hpbGQobGkpOwoKICAgIGNvbnN0IGZpbGVEYXRhUHJvbWlzZSA9IG5ldyBQcm9taXNlKChyZXNvbHZlKSA9PiB7CiAgICAgIGNvbnN0IHJlYWRlciA9IG5ldyBGaWxlUmVhZGVyKCk7CiAgICAgIHJlYWRlci5vbmxvYWQgPSAoZSkgPT4gewogICAgICAgIHJlc29sdmUoZS50YXJnZXQucmVzdWx0KTsKICAgICAgfTsKICAgICAgcmVhZGVyLnJlYWRBc0FycmF5QnVmZmVyKGZpbGUpOwogICAgfSk7CiAgICAvLyBXYWl0IGZvciB0aGUgZGF0YSB0byBiZSByZWFkeS4KICAgIGxldCBmaWxlRGF0YSA9IHlpZWxkIHsKICAgICAgcHJvbWlzZTogZmlsZURhdGFQcm9taXNlLAogICAgICByZXNwb25zZTogewogICAgICAgIGFjdGlvbjogJ2NvbnRpbnVlJywKICAgICAgfQogICAgfTsKCiAgICAvLyBVc2UgYSBjaHVua2VkIHNlbmRpbmcgdG8gYXZvaWQgbWVzc2FnZSBzaXplIGxpbWl0cy4gU2VlIGIvNjIxMTU2NjAuCiAgICBsZXQgcG9zaXRpb24gPSAwOwogICAgd2hpbGUgKHBvc2l0aW9uIDwgZmlsZURhdGEuYnl0ZUxlbmd0aCkgewogICAgICBjb25zdCBsZW5ndGggPSBNYXRoLm1pbihmaWxlRGF0YS5ieXRlTGVuZ3RoIC0gcG9zaXRpb24sIE1BWF9QQVlMT0FEX1NJWkUpOwogICAgICBjb25zdCBjaHVuayA9IG5ldyBVaW50OEFycmF5KGZpbGVEYXRhLCBwb3NpdGlvbiwgbGVuZ3RoKTsKICAgICAgcG9zaXRpb24gKz0gbGVuZ3RoOwoKICAgICAgY29uc3QgYmFzZTY0ID0gYnRvYShTdHJpbmcuZnJvbUNoYXJDb2RlLmFwcGx5KG51bGwsIGNodW5rKSk7CiAgICAgIHlpZWxkIHsKICAgICAgICByZXNwb25zZTogewogICAgICAgICAgYWN0aW9uOiAnYXBwZW5kJywKICAgICAgICAgIGZpbGU6IGZpbGUubmFtZSwKICAgICAgICAgIGRhdGE6IGJhc2U2NCwKICAgICAgICB9LAogICAgICB9OwogICAgICBwZXJjZW50LnRleHRDb250ZW50ID0KICAgICAgICAgIGAke01hdGgucm91bmQoKHBvc2l0aW9uIC8gZmlsZURhdGEuYnl0ZUxlbmd0aCkgKiAxMDApfSUgZG9uZWA7CiAgICB9CiAgfQoKICAvLyBBbGwgZG9uZS4KICB5aWVsZCB7CiAgICByZXNwb25zZTogewogICAgICBhY3Rpb246ICdjb21wbGV0ZScsCiAgICB9CiAgfTsKfQoKc2NvcGUuZ29vZ2xlID0gc2NvcGUuZ29vZ2xlIHx8IHt9OwpzY29wZS5nb29nbGUuY29sYWIgPSBzY29wZS5nb29nbGUuY29sYWIgfHwge307CnNjb3BlLmdvb2dsZS5jb2xhYi5fZmlsZXMgPSB7CiAgX3VwbG9hZEZpbGVzLAogIF91cGxvYWRGaWxlc0NvbnRpbnVlLAp9Owp9KShzZWxmKTsK",
              "ok": true,
              "headers": [
                [
                  "content-type",
                  "application/javascript"
                ]
              ],
              "status": 200,
              "status_text": "OK"
            }
          },
          "base_uri": "https://localhost:8080/",
          "height": 116
        },
        "id": "wiGK_qw0-g7I",
        "outputId": "e4f0ca7b-cb3e-4b0f-e49c-8af9df078597"
      },
      "source": [
        "from google.colab import files\r\n",
        "uploaded = files.upload()"
      ],
      "execution_count": 1,
      "outputs": [
        {
          "output_type": "display_data",
          "data": {
            "text/html": [
              "\n",
              "     <input type=\"file\" id=\"files-1a4a4a43-e189-4739-8c2b-f4be5a82039f\" name=\"files[]\" multiple disabled\n",
              "        style=\"border:none\" />\n",
              "     <output id=\"result-1a4a4a43-e189-4739-8c2b-f4be5a82039f\">\n",
              "      Upload widget is only available when the cell has been executed in the\n",
              "      current browser session. Please rerun this cell to enable.\n",
              "      </output>\n",
              "      <script src=\"/nbextensions/google.colab/files.js\"></script> "
            ],
            "text/plain": [
              "<IPython.core.display.HTML object>"
            ]
          },
          "metadata": {
            "tags": []
          }
        },
        {
          "output_type": "stream",
          "text": [
            "Saving solar-energy-production-sites-1.csv to solar-energy-production-sites-1.csv\n"
          ],
          "name": "stdout"
        }
      ]
    },
    {
      "cell_type": "code",
      "metadata": {
        "id": "Oz7MX4GM_BWA"
      },
      "source": [
        "import io\r\n",
        "import pandas as pd\r\n",
        "import numpy as np\r\n",
        "import matplotlib.pyplot as plt\r\n",
        "from sklearn import model_selection\r\n",
        "from sklearn.metrics import classification_report\r\n",
        "from sklearn.metrics import confusion_matrix\r\n",
        "from sklearn.metrics import accuracy_score\r\n",
        "\r\n",
        "\r\n",
        "import numpy as np\r\n",
        "import pandas as pd\r\n",
        "from matplotlib import pyplot as plt\r\n",
        "from sklearn.datasets.samples_generator import make_blobs\r\n",
        "from sklearn.cluster import KMeans\r\n",
        "\r\n",
        "from sklearn.cluster import KMeans \r\n",
        "from sklearn import metrics \r\n",
        "from scipy.spatial.distance import cdist \r\n",
        "import numpy as np \r\n",
        "import matplotlib.pyplot as plt  \r\n",
        "\r\n",
        "\r\n"
      ],
      "execution_count": 36,
      "outputs": []
    },
    {
      "cell_type": "code",
      "metadata": {
        "colab": {
          "base_uri": "https://localhost:8080/"
        },
        "id": "qEQPXTUi_P-3",
        "outputId": "2fa0c43d-bbc5-44fe-e5b8-c136e2785e05"
      },
      "source": [
        "df = pd.read_csv(io.BytesIO(uploaded['solar-energy-production-sites-1.csv'])) \r\n",
        "print(df)"
      ],
      "execution_count": 37,
      "outputs": [
        {
          "output_type": "stream",
          "text": [
            "                          Facility Name  ...                                 Address / Location\n",
            "0    Veterans Memorial Community Center  ...       101 S Pavilion Center\\nLas Vegas, NV 89144\\n\n",
            "1    Veterans Memorial Community Center  ...       101 S Pavilion Center\\nLas Vegas, NV 89144\\n\n",
            "2    Veterans Memorial Community Center  ...       101 S Pavilion Center\\nLas Vegas, NV 89144\\n\n",
            "3    Veterans Memorial Community Center  ...       101 S Pavilion Center\\nLas Vegas, NV 89144\\n\n",
            "4    Veterans Memorial Community Center  ...       101 S Pavilion Center\\nLas Vegas, NV 89144\\n\n",
            "..                                  ...  ...                                                ...\n",
            "377                    Ed Fountain Park  ...  1400 N Decatur Blvd\\nLas Vegas, NV 89108\\n(36....\n",
            "378    Durango Hills Community Center S  ...  3521 N Durango Dr\\nLas Vegas, NV 89129\\n(36.22...\n",
            "379                     Fire Station 44  ...  7701 W Washington Ave\\nLas Vegas, NV 89128\\n(3...\n",
            "380               Centennial Hills Park  ...  7691 Elkhorn Drive\\nLas Vegas, NV 89131\\n(36.2...\n",
            "381  West Yard - Operations-Maintenance  ...  2875 RONEMUS DR\\nLas Vegas, NV 89128\\n(36.2115...\n",
            "\n",
            "[382 rows x 6 columns]\n"
          ],
          "name": "stdout"
        }
      ]
    },
    {
      "cell_type": "code",
      "metadata": {
        "colab": {
          "base_uri": "https://localhost:8080/",
          "height": 484
        },
        "id": "bGpLdLW-_S0s",
        "outputId": "eea46c11-ca25-41e4-fc2f-37e5b06a82e9"
      },
      "source": [
        "df.head()"
      ],
      "execution_count": 38,
      "outputs": [
        {
          "output_type": "execute_result",
          "data": {
            "text/html": [
              "<div>\n",
              "<style scoped>\n",
              "    .dataframe tbody tr th:only-of-type {\n",
              "        vertical-align: middle;\n",
              "    }\n",
              "\n",
              "    .dataframe tbody tr th {\n",
              "        vertical-align: top;\n",
              "    }\n",
              "\n",
              "    .dataframe thead th {\n",
              "        text-align: right;\n",
              "    }\n",
              "</style>\n",
              "<table border=\"1\" class=\"dataframe\">\n",
              "  <thead>\n",
              "    <tr style=\"text-align: right;\">\n",
              "      <th></th>\n",
              "      <th>Facility Name</th>\n",
              "      <th>KW Rating</th>\n",
              "      <th>KWH Generated</th>\n",
              "      <th>Date</th>\n",
              "      <th>Generated</th>\n",
              "      <th>Address / Location</th>\n",
              "    </tr>\n",
              "  </thead>\n",
              "  <tbody>\n",
              "    <tr>\n",
              "      <th>0</th>\n",
              "      <td>Veterans Memorial Community Center</td>\n",
              "      <td>116.2</td>\n",
              "      <td>218498</td>\n",
              "      <td>07/01/2014 12:00:00 AM</td>\n",
              "      <td>22603</td>\n",
              "      <td>101 S Pavilion Center\\nLas Vegas, NV 89144\\n</td>\n",
              "    </tr>\n",
              "    <tr>\n",
              "      <th>1</th>\n",
              "      <td>Veterans Memorial Community Center</td>\n",
              "      <td>116.2</td>\n",
              "      <td>218498</td>\n",
              "      <td>08/01/2014 12:00:00 AM</td>\n",
              "      <td>23330</td>\n",
              "      <td>101 S Pavilion Center\\nLas Vegas, NV 89144\\n</td>\n",
              "    </tr>\n",
              "    <tr>\n",
              "      <th>2</th>\n",
              "      <td>Veterans Memorial Community Center</td>\n",
              "      <td>116.2</td>\n",
              "      <td>218498</td>\n",
              "      <td>09/01/2014 12:00:00 AM</td>\n",
              "      <td>17678</td>\n",
              "      <td>101 S Pavilion Center\\nLas Vegas, NV 89144\\n</td>\n",
              "    </tr>\n",
              "    <tr>\n",
              "      <th>3</th>\n",
              "      <td>Veterans Memorial Community Center</td>\n",
              "      <td>116.2</td>\n",
              "      <td>218498</td>\n",
              "      <td>10/01/2014 12:00:00 AM</td>\n",
              "      <td>14427</td>\n",
              "      <td>101 S Pavilion Center\\nLas Vegas, NV 89144\\n</td>\n",
              "    </tr>\n",
              "    <tr>\n",
              "      <th>4</th>\n",
              "      <td>Veterans Memorial Community Center</td>\n",
              "      <td>116.2</td>\n",
              "      <td>218498</td>\n",
              "      <td>11/01/2014 12:00:00 AM</td>\n",
              "      <td>10828</td>\n",
              "      <td>101 S Pavilion Center\\nLas Vegas, NV 89144\\n</td>\n",
              "    </tr>\n",
              "  </tbody>\n",
              "</table>\n",
              "</div>"
            ],
            "text/plain": [
              "                        Facility Name  ...                            Address / Location\n",
              "0  Veterans Memorial Community Center  ...  101 S Pavilion Center\\nLas Vegas, NV 89144\\n\n",
              "1  Veterans Memorial Community Center  ...  101 S Pavilion Center\\nLas Vegas, NV 89144\\n\n",
              "2  Veterans Memorial Community Center  ...  101 S Pavilion Center\\nLas Vegas, NV 89144\\n\n",
              "3  Veterans Memorial Community Center  ...  101 S Pavilion Center\\nLas Vegas, NV 89144\\n\n",
              "4  Veterans Memorial Community Center  ...  101 S Pavilion Center\\nLas Vegas, NV 89144\\n\n",
              "\n",
              "[5 rows x 6 columns]"
            ]
          },
          "metadata": {
            "tags": []
          },
          "execution_count": 38
        }
      ]
    },
    {
      "cell_type": "code",
      "metadata": {
        "id": "qwK515m9_TJy",
        "colab": {
          "base_uri": "https://localhost:8080/",
          "height": 300
        },
        "outputId": "9798728e-9135-46a2-e952-126232fd635f"
      },
      "source": [
        "df.describe()"
      ],
      "execution_count": 39,
      "outputs": [
        {
          "output_type": "execute_result",
          "data": {
            "text/html": [
              "<div>\n",
              "<style scoped>\n",
              "    .dataframe tbody tr th:only-of-type {\n",
              "        vertical-align: middle;\n",
              "    }\n",
              "\n",
              "    .dataframe tbody tr th {\n",
              "        vertical-align: top;\n",
              "    }\n",
              "\n",
              "    .dataframe thead th {\n",
              "        text-align: right;\n",
              "    }\n",
              "</style>\n",
              "<table border=\"1\" class=\"dataframe\">\n",
              "  <thead>\n",
              "    <tr style=\"text-align: right;\">\n",
              "      <th></th>\n",
              "      <th>KW Rating</th>\n",
              "      <th>KWH Generated</th>\n",
              "      <th>Generated</th>\n",
              "    </tr>\n",
              "  </thead>\n",
              "  <tbody>\n",
              "    <tr>\n",
              "      <th>count</th>\n",
              "      <td>382.000000</td>\n",
              "      <td>3.820000e+02</td>\n",
              "      <td>382.000000</td>\n",
              "    </tr>\n",
              "    <tr>\n",
              "      <th>mean</th>\n",
              "      <td>195.302618</td>\n",
              "      <td>3.724244e+05</td>\n",
              "      <td>32259.801047</td>\n",
              "    </tr>\n",
              "    <tr>\n",
              "      <th>std</th>\n",
              "      <td>658.166173</td>\n",
              "      <td>1.338346e+06</td>\n",
              "      <td>119224.015824</td>\n",
              "    </tr>\n",
              "    <tr>\n",
              "      <th>min</th>\n",
              "      <td>15.300000</td>\n",
              "      <td>2.745200e+04</td>\n",
              "      <td>1136.000000</td>\n",
              "    </tr>\n",
              "    <tr>\n",
              "      <th>25%</th>\n",
              "      <td>30.100000</td>\n",
              "      <td>4.942500e+04</td>\n",
              "      <td>4245.750000</td>\n",
              "    </tr>\n",
              "    <tr>\n",
              "      <th>50%</th>\n",
              "      <td>44.500000</td>\n",
              "      <td>7.208900e+04</td>\n",
              "      <td>6697.000000</td>\n",
              "    </tr>\n",
              "    <tr>\n",
              "      <th>75%</th>\n",
              "      <td>100.000000</td>\n",
              "      <td>1.468800e+05</td>\n",
              "      <td>11163.000000</td>\n",
              "    </tr>\n",
              "    <tr>\n",
              "      <th>max</th>\n",
              "      <td>3334.000000</td>\n",
              "      <td>6.759539e+06</td>\n",
              "      <td>805458.000000</td>\n",
              "    </tr>\n",
              "  </tbody>\n",
              "</table>\n",
              "</div>"
            ],
            "text/plain": [
              "         KW Rating  KWH Generated      Generated\n",
              "count   382.000000   3.820000e+02     382.000000\n",
              "mean    195.302618   3.724244e+05   32259.801047\n",
              "std     658.166173   1.338346e+06  119224.015824\n",
              "min      15.300000   2.745200e+04    1136.000000\n",
              "25%      30.100000   4.942500e+04    4245.750000\n",
              "50%      44.500000   7.208900e+04    6697.000000\n",
              "75%     100.000000   1.468800e+05   11163.000000\n",
              "max    3334.000000   6.759539e+06  805458.000000"
            ]
          },
          "metadata": {
            "tags": []
          },
          "execution_count": 39
        }
      ]
    },
    {
      "cell_type": "code",
      "metadata": {
        "colab": {
          "base_uri": "https://localhost:8080/"
        },
        "id": "DeUmJajiImu5",
        "outputId": "d44d95ce-2527-4294-d0a2-889182cf475e"
      },
      "source": [
        "print(df.groupby('Facility Name').size())"
      ],
      "execution_count": 40,
      "outputs": [
        {
          "output_type": "stream",
          "text": [
            "Facility Name\n",
            "All American Park                           9\n",
            "Centennial Hills Community Center N & S     9\n",
            "Centennial Hills Park                      11\n",
            "Durango Hills Community Center S           10\n",
            "East Las Vegas Community Center            13\n",
            "East Yard - Fire Equipment Center           9\n",
            "East Yard - Main Gate 1                    17\n",
            "East Yard - Sign Shop                      17\n",
            "Ed Fountain Park                            9\n",
            "Fire Station 10                            13\n",
            "Fire Station 106                            8\n",
            "Fire Station 107                            9\n",
            "Fire Station 41                            13\n",
            "Fire Station 43                            14\n",
            "Fire Station 44                            13\n",
            "Fire Station 45                            13\n",
            "Fire Station 48                            13\n",
            "Fire Station 5                             13\n",
            "Fire Station 6                             13\n",
            "Fire Station 7                             13\n",
            "Fire Station 8                             13\n",
            "Lorenzi Park                                6\n",
            "Mirabelli Community Center                 12\n",
            "Natural History Museum                     13\n",
            "Rainbow Park                               13\n",
            "Stupak Community Center                    13\n",
            "Veterans Memorial Community Center         13\n",
            "WPCF Plant                                 16\n",
            "West Yard - EOC                            16\n",
            "West Yard - Operations-Maintenance         14\n",
            "West Yard - Vehicle Services               14\n",
            "dtype: int64\n"
          ],
          "name": "stdout"
        }
      ]
    },
    {
      "cell_type": "code",
      "metadata": {
        "colab": {
          "base_uri": "https://localhost:8080/",
          "height": 276
        },
        "id": "ocyXfoOeIu9x",
        "outputId": "4c74ba59-6d32-4cf6-deef-11116ccf96e5"
      },
      "source": [
        "#Data Visualiztion\r\n",
        "df.plot(kind='box',subplots=True,layout=(2,2),sharex=False,sharey =False)\r\n",
        "plt.show()"
      ],
      "execution_count": 41,
      "outputs": [
        {
          "output_type": "display_data",
          "data": {
            "image/png": "[encoded data removed]",
            "text/plain": [
              "<Figure size 432x288 with 4 Axes>"
            ]
          },
          "metadata": {
            "tags": [],
            "needs_background": "light"
          }
        }
      ]
    },
    {
      "cell_type": "code",
      "metadata": {
        "colab": {
          "base_uri": "https://localhost:8080/",
          "height": 281
        },
        "id": "3od3vfGTI6zG",
        "outputId": "c73a4bc4-9925-4577-b1bb-ad143da04ab8"
      },
      "source": [
        "df.hist()\r\n",
        "plt.show()"
      ],
      "execution_count": 42,
      "outputs": [
        {
          "output_type": "display_data",
          "data": {
            "image/png": "[encoded data removed]",
            "text/plain": [
              "<Figure size 432x288 with 4 Axes>"
            ]
          },
          "metadata": {
            "tags": [],
            "needs_background": "light"
          }
        }
      ]
    },
    {
      "cell_type": "code",
      "metadata": {
        "id": "Gvsc2x4kT8HQ"
      },
      "source": [
        "copy_df = df\r\n",
        "f_names =set(copy_df['Facility Name'])\r\n"
      ],
      "execution_count": 43,
      "outputs": []
    },
    {
      "cell_type": "code",
      "metadata": {
        "colab": {
          "base_uri": "https://localhost:8080/"
        },
        "id": "aQdJ_TOvJy29",
        "outputId": "eb943fc4-59c7-4957-86ac-389ec4acf7ec"
      },
      "source": [
        "for col in copy_df.columns:\r\n",
        "  print(col)"
      ],
      "execution_count": 44,
      "outputs": [
        {
          "output_type": "stream",
          "text": [
            "Facility Name\n",
            "KW Rating\n",
            "KWH Generated\n",
            "Date\n",
            "Generated\n",
            "Address / Location\n"
          ],
          "name": "stdout"
        }
      ]
    },
    {
      "cell_type": "code",
      "metadata": {
        "id": "GycE7dskKyiZ"
      },
      "source": [
        "trimmed_df=copy_df.drop(['Date','Address / Location'],axis=1)"
      ],
      "execution_count": 45,
      "outputs": []
    },
    {
      "cell_type": "code",
      "metadata": {
        "colab": {
          "base_uri": "https://localhost:8080/",
          "height": 424
        },
        "id": "ZQ2lXgwNXEzt",
        "outputId": "8e2c46a7-abce-41c9-d14f-2ebb46d04913"
      },
      "source": [
        "trimmed_df"
      ],
      "execution_count": 46,
      "outputs": [
        {
          "output_type": "execute_result",
          "data": {
            "text/html": [
              "<div>\n",
              "<style scoped>\n",
              "    .dataframe tbody tr th:only-of-type {\n",
              "        vertical-align: middle;\n",
              "    }\n",
              "\n",
              "    .dataframe tbody tr th {\n",
              "        vertical-align: top;\n",
              "    }\n",
              "\n",
              "    .dataframe thead th {\n",
              "        text-align: right;\n",
              "    }\n",
              "</style>\n",
              "<table border=\"1\" class=\"dataframe\">\n",
              "  <thead>\n",
              "    <tr style=\"text-align: right;\">\n",
              "      <th></th>\n",
              "      <th>Facility Name</th>\n",
              "      <th>KW Rating</th>\n",
              "      <th>KWH Generated</th>\n",
              "      <th>Generated</th>\n",
              "    </tr>\n",
              "  </thead>\n",
              "  <tbody>\n",
              "    <tr>\n",
              "      <th>0</th>\n",
              "      <td>Veterans Memorial Community Center</td>\n",
              "      <td>116.2</td>\n",
              "      <td>218498</td>\n",
              "      <td>22603</td>\n",
              "    </tr>\n",
              "    <tr>\n",
              "      <th>1</th>\n",
              "      <td>Veterans Memorial Community Center</td>\n",
              "      <td>116.2</td>\n",
              "      <td>218498</td>\n",
              "      <td>23330</td>\n",
              "    </tr>\n",
              "    <tr>\n",
              "      <th>2</th>\n",
              "      <td>Veterans Memorial Community Center</td>\n",
              "      <td>116.2</td>\n",
              "      <td>218498</td>\n",
              "      <td>17678</td>\n",
              "    </tr>\n",
              "    <tr>\n",
              "      <th>3</th>\n",
              "      <td>Veterans Memorial Community Center</td>\n",
              "      <td>116.2</td>\n",
              "      <td>218498</td>\n",
              "      <td>14427</td>\n",
              "    </tr>\n",
              "    <tr>\n",
              "      <th>4</th>\n",
              "      <td>Veterans Memorial Community Center</td>\n",
              "      <td>116.2</td>\n",
              "      <td>218498</td>\n",
              "      <td>10828</td>\n",
              "    </tr>\n",
              "    <tr>\n",
              "      <th>...</th>\n",
              "      <td>...</td>\n",
              "      <td>...</td>\n",
              "      <td>...</td>\n",
              "      <td>...</td>\n",
              "    </tr>\n",
              "    <tr>\n",
              "      <th>377</th>\n",
              "      <td>Ed Fountain Park</td>\n",
              "      <td>144.5</td>\n",
              "      <td>151050</td>\n",
              "      <td>20100</td>\n",
              "    </tr>\n",
              "    <tr>\n",
              "      <th>378</th>\n",
              "      <td>Durango Hills Community Center S</td>\n",
              "      <td>33.6</td>\n",
              "      <td>45246</td>\n",
              "      <td>2832</td>\n",
              "    </tr>\n",
              "    <tr>\n",
              "      <th>379</th>\n",
              "      <td>Fire Station 44</td>\n",
              "      <td>30.0</td>\n",
              "      <td>57914</td>\n",
              "      <td>6012</td>\n",
              "    </tr>\n",
              "    <tr>\n",
              "      <th>380</th>\n",
              "      <td>Centennial Hills Park</td>\n",
              "      <td>30.1</td>\n",
              "      <td>38876</td>\n",
              "      <td>4998</td>\n",
              "    </tr>\n",
              "    <tr>\n",
              "      <th>381</th>\n",
              "      <td>West Yard - Operations-Maintenance</td>\n",
              "      <td>79.3</td>\n",
              "      <td>146880</td>\n",
              "      <td>10960</td>\n",
              "    </tr>\n",
              "  </tbody>\n",
              "</table>\n",
              "<p>382 rows × 4 columns</p>\n",
              "</div>"
            ],
            "text/plain": [
              "                          Facility Name  KW Rating  KWH Generated  Generated\n",
              "0    Veterans Memorial Community Center      116.2         218498      22603\n",
              "1    Veterans Memorial Community Center      116.2         218498      23330\n",
              "2    Veterans Memorial Community Center      116.2         218498      17678\n",
              "3    Veterans Memorial Community Center      116.2         218498      14427\n",
              "4    Veterans Memorial Community Center      116.2         218498      10828\n",
              "..                                  ...        ...            ...        ...\n",
              "377                    Ed Fountain Park      144.5         151050      20100\n",
              "378    Durango Hills Community Center S       33.6          45246       2832\n",
              "379                     Fire Station 44       30.0          57914       6012\n",
              "380               Centennial Hills Park       30.1          38876       4998\n",
              "381  West Yard - Operations-Maintenance       79.3         146880      10960\n",
              "\n",
              "[382 rows x 4 columns]"
            ]
          },
          "metadata": {
            "tags": []
          },
          "execution_count": 46
        }
      ]
    },
    {
      "cell_type": "code",
      "metadata": {
        "colab": {
          "base_uri": "https://localhost:8080/"
        },
        "id": "astNSGI1s3_2",
        "outputId": "cce1e2e7-7285-434d-e99e-b3c8b734a7e4"
      },
      "source": [
        "#creating dictionary to replace the names for easier analysis\r\n",
        "list_loc = list(f_names)\r\n",
        "d_loc = {}\r\n",
        "ni = 0\r\n",
        "for i in list_loc:\r\n",
        "  d_loc[i] = ni\r\n",
        "  ni += 1\r\n",
        "print(d_loc)\r\n",
        "#print(f_names)"
      ],
      "execution_count": 47,
      "outputs": [
        {
          "output_type": "stream",
          "text": [
            "{'Stupak Community Center': 0, 'West Yard - EOC': 1, 'Fire Station 43': 2, 'Ed Fountain Park': 3, 'Fire Station 8': 4, 'Fire Station 7': 5, 'All American Park': 6, 'Mirabelli Community Center': 7, 'East Yard - Fire Equipment Center': 8, 'Fire Station 44': 9, 'Fire Station 41': 10, 'East Yard - Main Gate 1': 11, 'Centennial Hills Community Center N & S': 12, 'Fire Station 6': 13, 'East Yard - Sign Shop': 14, 'WPCF Plant': 15, 'Fire Station 5': 16, 'Rainbow Park': 17, 'West Yard - Vehicle Services': 18, 'Fire Station 107': 19, 'Centennial Hills Park': 20, 'Durango Hills Community Center S': 21, 'East Las Vegas Community Center': 22, 'Lorenzi Park': 23, 'Veterans Memorial Community Center': 24, 'Fire Station 48': 25, 'Natural History Museum': 26, 'Fire Station 10': 27, 'West Yard - Operations-Maintenance': 28, 'Fire Station 45': 29, 'Fire Station 106': 30}\n"
          ],
          "name": "stdout"
        }
      ]
    },
    {
      "cell_type": "code",
      "metadata": {
        "id": "3T7lInbPpEEz"
      },
      "source": [
        "test_df = trimmed_df"
      ],
      "execution_count": 48,
      "outputs": []
    },
    {
      "cell_type": "code",
      "metadata": {
        "colab": {
          "base_uri": "https://localhost:8080/"
        },
        "id": "f5mIykVynyyY",
        "outputId": "9fe230bc-efb4-442c-a036-4d1e19f1ee01"
      },
      "source": [
        "nest_d = {'Facility Name':d_loc}\r\n",
        "print(nest_d)"
      ],
      "execution_count": 49,
      "outputs": [
        {
          "output_type": "stream",
          "text": [
            "{'Facility Name': {'Stupak Community Center': 0, 'West Yard - EOC': 1, 'Fire Station 43': 2, 'Ed Fountain Park': 3, 'Fire Station 8': 4, 'Fire Station 7': 5, 'All American Park': 6, 'Mirabelli Community Center': 7, 'East Yard - Fire Equipment Center': 8, 'Fire Station 44': 9, 'Fire Station 41': 10, 'East Yard - Main Gate 1': 11, 'Centennial Hills Community Center N & S': 12, 'Fire Station 6': 13, 'East Yard - Sign Shop': 14, 'WPCF Plant': 15, 'Fire Station 5': 16, 'Rainbow Park': 17, 'West Yard - Vehicle Services': 18, 'Fire Station 107': 19, 'Centennial Hills Park': 20, 'Durango Hills Community Center S': 21, 'East Las Vegas Community Center': 22, 'Lorenzi Park': 23, 'Veterans Memorial Community Center': 24, 'Fire Station 48': 25, 'Natural History Museum': 26, 'Fire Station 10': 27, 'West Yard - Operations-Maintenance': 28, 'Fire Station 45': 29, 'Fire Station 106': 30}}\n"
          ],
          "name": "stdout"
        }
      ]
    },
    {
      "cell_type": "code",
      "metadata": {
        "id": "HkJOAQT3n8Xa"
      },
      "source": [
        "final_df = test_df.replace(to_replace = nest_d, value= None)"
      ],
      "execution_count": 50,
      "outputs": []
    },
    {
      "cell_type": "code",
      "metadata": {
        "colab": {
          "base_uri": "https://localhost:8080/",
          "height": 276
        },
        "id": "ov8zPPFqLH0J",
        "outputId": "52f405db-0e94-40fb-f702-04584b9cb288"
      },
      "source": [
        "x1 = final_df['Facility Name']\r\n",
        "x2 = final_df['KWH Generated']\r\n",
        "plt.scatter(x1,x2)\r\n",
        "plt.show()"
      ],
      "execution_count": 52,
      "outputs": [
        {
          "output_type": "display_data",
          "data": {
            "image/png": "[encoded data removed]",
            "text/plain": [
              "<Figure size 432x288 with 1 Axes>"
            ]
          },
          "metadata": {
            "tags": [],
            "needs_background": "light"
          }
        }
      ]
    },
    {
      "cell_type": "code",
      "metadata": {
        "colab": {
          "base_uri": "https://localhost:8080/",
          "height": 265
        },
        "id": "13lrvofmLgMC",
        "outputId": "54173839-2aa9-4e9c-e872-58ba83c2e1fc"
      },
      "source": [
        "x1 = final_df['Generated']\r\n",
        "x2 = final_df['Facility Name']\r\n",
        "plt.scatter(x1,x2)\r\n",
        "plt.show()"
      ],
      "execution_count": 57,
      "outputs": [
        {
          "output_type": "display_data",
          "data": {
            "image/png": "[encoded data removed]",
            "text/plain": [
              "<Figure size 432x288 with 1 Axes>"
            ]
          },
          "metadata": {
            "tags": [],
            "needs_background": "light"
          }
        }
      ]
    },
    {
      "cell_type": "markdown",
      "metadata": {
        "id": "UKBC9qjWTmNU"
      },
      "source": [
        "final_df should be used from this point onwards.\r\n",
        "Facitlity name is the dependent variable."
      ]
    },
    {
      "cell_type": "markdown",
      "metadata": {
        "id": "G3tL2W82TEqJ"
      },
      "source": [
        "# Training a model"
      ]
    },
    {
      "cell_type": "code",
      "metadata": {
        "colab": {
          "base_uri": "https://localhost:8080/"
        },
        "id": "e4rsjZFkTI8f",
        "outputId": "d8257e1f-8ac2-4c08-d81c-df11651e458f"
      },
      "source": [
        "\r\n",
        "array = final_df.values\r\n",
        "print(array)"
      ],
      "execution_count": 17,
      "outputs": [
        {
          "output_type": "stream",
          "text": [
            "[[2.40000e+01 1.16200e+02 2.18498e+05 2.26030e+04]\n",
            " [2.40000e+01 1.16200e+02 2.18498e+05 2.33300e+04]\n",
            " [2.40000e+01 1.16200e+02 2.18498e+05 1.76780e+04]\n",
            " ...\n",
            " [9.00000e+00 3.00000e+01 5.79140e+04 6.01200e+03]\n",
            " [2.00000e+01 3.01000e+01 3.88760e+04 4.99800e+03]\n",
            " [2.80000e+01 7.93000e+01 1.46880e+05 1.09600e+04]]\n"
          ],
          "name": "stdout"
        }
      ]
    },
    {
      "cell_type": "code",
      "metadata": {
        "id": "xSWl93cJTyI4",
        "colab": {
          "base_uri": "https://localhost:8080/"
        },
        "outputId": "d4704885-877f-454e-9efa-89fb2e32e61a"
      },
      "source": [
        "final_df.shape"
      ],
      "execution_count": 30,
      "outputs": [
        {
          "output_type": "execute_result",
          "data": {
            "text/plain": [
              "(382, 4)"
            ]
          },
          "metadata": {
            "tags": []
          },
          "execution_count": 30
        }
      ]
    },
    {
      "cell_type": "code",
      "metadata": {
        "id": "8k-OBXa1Vx39",
        "colab": {
          "base_uri": "https://localhost:8080/",
          "height": 283
        },
        "outputId": "acbde9ff-e74d-4df6-9073-4f4ced0bceb8"
      },
      "source": [
        "X, y =make_blobs(n_samples=382,centers =2,cluster_std = 0.60,random_state=0)\r\n",
        "plt.scatter(X[:,0],X[:,1])"
      ],
      "execution_count": 33,
      "outputs": [
        {
          "output_type": "execute_result",
          "data": {
            "text/plain": [
              "<matplotlib.collections.PathCollection at 0x7f3ba4d99b00>"
            ]
          },
          "metadata": {
            "tags": []
          },
          "execution_count": 33
        },
        {
          "output_type": "display_data",
          "data": {
            "image/png": "[encoded data removed]",
            "text/plain": [
              "<Figure size 432x288 with 1 Axes>"
            ]
          },
          "metadata": {
            "tags": [],
            "needs_background": "light"
          }
        }
      ]
    },
    {
      "cell_type": "code",
      "metadata": {
        "id": "vjT1lvvEE2c-"
      },
      "source": [
        ""
      ],
      "execution_count": null,
      "outputs": []
    }
  ]
}