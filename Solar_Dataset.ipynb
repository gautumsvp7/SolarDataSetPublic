{
  "nbformat": 4,
  "nbformat_minor": 0,
  "metadata": {
    "colab": {
      "name": "Solar Dataset",
      "provenance": [],
      "collapsed_sections": [],
      "authorship_tag": "ABX9TyMBCWyGuHzG5rWkSqQ14qAH",
      "include_colab_link": true
    },
    "kernelspec": {
      "name": "python3",
      "display_name": "Python 3"
    }
  },
  "cells": [
    {
      "cell_type": "markdown",
      "metadata": {
        "id": "view-in-github",
        "colab_type": "text"
      },
      "source": [
        "<a href=\"https://colab.research.google.com/github/gautumsvp7/SolarDataSetPublic/blob/main/Solar_Dataset.ipynb\" target=\"_parent\"><img src=\"https://colab.research.google.com/assets/colab-badge.svg\" alt=\"Open In Colab\"/></a>"
      ]
    },
    {
      "cell_type": "code",
      "metadata": {
        "colab": {
          "resources": {
            "http://localhost:8080/nbextensions/google.colab/files.js": {
              "data": "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",
              "ok": true,
              "headers": [
                [
                  "content-type",
                  "application/javascript"
                ]
              ],
              "status": 200,
              "status_text": "OK"
            }
          },
          "base_uri": "https://localhost:8080/",
          "height": 116
        },
        "id": "wiGK_qw0-g7I",
        "outputId": "63f912cd-703b-4476-cbb6-ebb430a92485"
      },
      "source": [
        "from google.colab import files\r\n",
        "uploaded = files.upload()"
      ],
      "execution_count": 1,
      "outputs": [
        {
          "output_type": "display_data",
          "data": {
            "text/html": [
              "\n",
              "     <input type=\"file\" id=\"files-430f9d60-2f57-4edf-af99-3167bb7bec5e\" name=\"files[]\" multiple disabled\n",
              "        style=\"border:none\" />\n",
              "     <output id=\"result-430f9d60-2f57-4edf-af99-3167bb7bec5e\">\n",
              "      Upload widget is only available when the cell has been executed in the\n",
              "      current browser session. Please rerun this cell to enable.\n",
              "      </output>\n",
              "      <script src=\"/nbextensions/google.colab/files.js\"></script> "
            ],
            "text/plain": [
              "<IPython.core.display.HTML object>"
            ]
          },
          "metadata": {
            "tags": []
          }
        },
        {
          "output_type": "stream",
          "text": [
            "Saving solar-energy-production-sites-1.csv to solar-energy-production-sites-1 (1).csv\n"
          ],
          "name": "stdout"
        }
      ]
    },
    {
      "cell_type": "code",
      "metadata": {
        "id": "Oz7MX4GM_BWA",
        "colab": {
          "base_uri": "https://localhost:8080/"
        },
        "outputId": "a3af54fa-3f53-4a33-84f2-51cd99601df7"
      },
      "source": [
        "import io\r\n",
        "import pandas as pd\r\n",
        "import numpy as np\r\n",
        "import matplotlib.pyplot as plt\r\n",
        "from sklearn import model_selection\r\n",
        "from sklearn.metrics import classification_report\r\n",
        "from sklearn.metrics import confusion_matrix\r\n",
        "from sklearn.metrics import accuracy_score\r\n",
        "\r\n",
        "from sklearn.datasets.samples_generator import make_blobs\r\n",
        "from sklearn.cluster import KMeans\r\n",
        "\r\n",
        "from sklearn.cluster import KMeans \r\n",
        "from sklearn import metrics \r\n",
        "from scipy.spatial.distance import cdist \r\n",
        "import numpy as np \r\n",
        "import matplotlib.pyplot as plt  \r\n",
        "\r\n",
        "\r\n",
        "from sklearn.preprocessing import MinMaxScaler\r\n",
        "import seaborn as sns\r\n",
        "import matplotlib.pyplot as plt\r\n",
        "%matplotlib inline\r\n",
        "\r\n"
      ],
      "execution_count": 2,
      "outputs": [
        {
          "output_type": "stream",
          "text": [
            "/usr/local/lib/python3.6/dist-packages/sklearn/utils/deprecation.py:144: FutureWarning: The sklearn.datasets.samples_generator module is  deprecated in version 0.22 and will be removed in version 0.24. The corresponding classes / functions should instead be imported from sklearn.datasets. Anything that cannot be imported from sklearn.datasets is now part of the private API.\n",
            "  warnings.warn(message, FutureWarning)\n"
          ],
          "name": "stderr"
        }
      ]
    },
    {
      "cell_type": "code",
      "metadata": {
        "colab": {
          "base_uri": "https://localhost:8080/"
        },
        "id": "qEQPXTUi_P-3",
        "outputId": "51978353-618d-4e03-bd73-5cfe1513745d"
      },
      "source": [
        "df = pd.read_csv(io.BytesIO(uploaded['solar-energy-production-sites-1.csv'])) \r\n",
        "print(df)"
      ],
      "execution_count": 3,
      "outputs": [
        {
          "output_type": "stream",
          "text": [
            "                          Facility Name  ...                                 Address / Location\n",
            "0    Veterans Memorial Community Center  ...       101 S Pavilion Center\\nLas Vegas, NV 89144\\n\n",
            "1    Veterans Memorial Community Center  ...       101 S Pavilion Center\\nLas Vegas, NV 89144\\n\n",
            "2    Veterans Memorial Community Center  ...       101 S Pavilion Center\\nLas Vegas, NV 89144\\n\n",
            "3    Veterans Memorial Community Center  ...       101 S Pavilion Center\\nLas Vegas, NV 89144\\n\n",
            "4    Veterans Memorial Community Center  ...       101 S Pavilion Center\\nLas Vegas, NV 89144\\n\n",
            "..                                  ...  ...                                                ...\n",
            "377                    Ed Fountain Park  ...  1400 N Decatur Blvd\\nLas Vegas, NV 89108\\n(36....\n",
            "378    Durango Hills Community Center S  ...  3521 N Durango Dr\\nLas Vegas, NV 89129\\n(36.22...\n",
            "379                     Fire Station 44  ...  7701 W Washington Ave\\nLas Vegas, NV 89128\\n(3...\n",
            "380               Centennial Hills Park  ...  7691 Elkhorn Drive\\nLas Vegas, NV 89131\\n(36.2...\n",
            "381  West Yard - Operations-Maintenance  ...  2875 RONEMUS DR\\nLas Vegas, NV 89128\\n(36.2115...\n",
            "\n",
            "[382 rows x 6 columns]\n"
          ],
          "name": "stdout"
        }
      ]
    },
    {
      "cell_type": "code",
      "metadata": {
        "id": "qwK515m9_TJy",
        "colab": {
          "base_uri": "https://localhost:8080/",
          "height": 300
        },
        "outputId": "ae977612-b19e-419c-cd58-6cc230998013"
      },
      "source": [
        "df.describe()"
      ],
      "execution_count": 4,
      "outputs": [
        {
          "output_type": "execute_result",
          "data": {
            "text/html": [
              "<div>\n",
              "<style scoped>\n",
              "    .dataframe tbody tr th:only-of-type {\n",
              "        vertical-align: middle;\n",
              "    }\n",
              "\n",
              "    .dataframe tbody tr th {\n",
              "        vertical-align: top;\n",
              "    }\n",
              "\n",
              "    .dataframe thead th {\n",
              "        text-align: right;\n",
              "    }\n",
              "</style>\n",
              "<table border=\"1\" class=\"dataframe\">\n",
              "  <thead>\n",
              "    <tr style=\"text-align: right;\">\n",
              "      <th></th>\n",
              "      <th>KW Rating</th>\n",
              "      <th>KWH Generated</th>\n",
              "      <th>Generated</th>\n",
              "    </tr>\n",
              "  </thead>\n",
              "  <tbody>\n",
              "    <tr>\n",
              "      <th>count</th>\n",
              "      <td>382.000000</td>\n",
              "      <td>3.820000e+02</td>\n",
              "      <td>382.000000</td>\n",
              "    </tr>\n",
              "    <tr>\n",
              "      <th>mean</th>\n",
              "      <td>195.302618</td>\n",
              "      <td>3.724244e+05</td>\n",
              "      <td>32259.801047</td>\n",
              "    </tr>\n",
              "    <tr>\n",
              "      <th>std</th>\n",
              "      <td>658.166173</td>\n",
              "      <td>1.338346e+06</td>\n",
              "      <td>119224.015824</td>\n",
              "    </tr>\n",
              "    <tr>\n",
              "      <th>min</th>\n",
              "      <td>15.300000</td>\n",
              "      <td>2.745200e+04</td>\n",
              "      <td>1136.000000</td>\n",
              "    </tr>\n",
              "    <tr>\n",
              "      <th>25%</th>\n",
              "      <td>30.100000</td>\n",
              "      <td>4.942500e+04</td>\n",
              "      <td>4245.750000</td>\n",
              "    </tr>\n",
              "    <tr>\n",
              "      <th>50%</th>\n",
              "      <td>44.500000</td>\n",
              "      <td>7.208900e+04</td>\n",
              "      <td>6697.000000</td>\n",
              "    </tr>\n",
              "    <tr>\n",
              "      <th>75%</th>\n",
              "      <td>100.000000</td>\n",
              "      <td>1.468800e+05</td>\n",
              "      <td>11163.000000</td>\n",
              "    </tr>\n",
              "    <tr>\n",
              "      <th>max</th>\n",
              "      <td>3334.000000</td>\n",
              "      <td>6.759539e+06</td>\n",
              "      <td>805458.000000</td>\n",
              "    </tr>\n",
              "  </tbody>\n",
              "</table>\n",
              "</div>"
            ],
            "text/plain": [
              "         KW Rating  KWH Generated      Generated\n",
              "count   382.000000   3.820000e+02     382.000000\n",
              "mean    195.302618   3.724244e+05   32259.801047\n",
              "std     658.166173   1.338346e+06  119224.015824\n",
              "min      15.300000   2.745200e+04    1136.000000\n",
              "25%      30.100000   4.942500e+04    4245.750000\n",
              "50%      44.500000   7.208900e+04    6697.000000\n",
              "75%     100.000000   1.468800e+05   11163.000000\n",
              "max    3334.000000   6.759539e+06  805458.000000"
            ]
          },
          "metadata": {
            "tags": []
          },
          "execution_count": 4
        }
      ]
    },
    {
      "cell_type": "code",
      "metadata": {
        "colab": {
          "base_uri": "https://localhost:8080/"
        },
        "id": "DeUmJajiImu5",
        "outputId": "01292b6b-59bf-4ced-e096-e8c882362bcf"
      },
      "source": [
        "print(df.groupby('Facility Name').size())"
      ],
      "execution_count": 5,
      "outputs": [
        {
          "output_type": "stream",
          "text": [
            "Facility Name\n",
            "All American Park                           9\n",
            "Centennial Hills Community Center N & S     9\n",
            "Centennial Hills Park                      11\n",
            "Durango Hills Community Center S           10\n",
            "East Las Vegas Community Center            13\n",
            "East Yard - Fire Equipment Center           9\n",
            "East Yard - Main Gate 1                    17\n",
            "East Yard - Sign Shop                      17\n",
            "Ed Fountain Park                            9\n",
            "Fire Station 10                            13\n",
            "Fire Station 106                            8\n",
            "Fire Station 107                            9\n",
            "Fire Station 41                            13\n",
            "Fire Station 43                            14\n",
            "Fire Station 44                            13\n",
            "Fire Station 45                            13\n",
            "Fire Station 48                            13\n",
            "Fire Station 5                             13\n",
            "Fire Station 6                             13\n",
            "Fire Station 7                             13\n",
            "Fire Station 8                             13\n",
            "Lorenzi Park                                6\n",
            "Mirabelli Community Center                 12\n",
            "Natural History Museum                     13\n",
            "Rainbow Park                               13\n",
            "Stupak Community Center                    13\n",
            "Veterans Memorial Community Center         13\n",
            "WPCF Plant                                 16\n",
            "West Yard - EOC                            16\n",
            "West Yard - Operations-Maintenance         14\n",
            "West Yard - Vehicle Services               14\n",
            "dtype: int64\n"
          ],
          "name": "stdout"
        }
      ]
    },
    {
      "cell_type": "code",
      "metadata": {
        "colab": {
          "base_uri": "https://localhost:8080/",
          "height": 276
        },
        "id": "ocyXfoOeIu9x",
        "outputId": "12221333-716c-4525-f0de-01361b6a5478"
      },
      "source": [
        "#Data Visualiztion\r\n",
        "df.plot(kind='box',subplots=True,layout=(2,2),sharex=False,sharey =False)\r\n",
        "plt.show()"
      ],
      "execution_count": 6,
      "outputs": [
        {
          "output_type": "display_data",
          "data": {
            "image/png": "[encoded data removed]",
            "text/plain": [
              "<Figure size 432x288 with 4 Axes>"
            ]
          },
          "metadata": {
            "tags": [],
            "needs_background": "light"
          }
        }
      ]
    },
    {
      "cell_type": "code",
      "metadata": {
        "colab": {
          "base_uri": "https://localhost:8080/",
          "height": 281
        },
        "id": "3od3vfGTI6zG",
        "outputId": "12c7b196-18be-44e2-e559-5a55e6a5963d"
      },
      "source": [
        "df.hist()\r\n",
        "plt.show()"
      ],
      "execution_count": 7,
      "outputs": [
        {
          "output_type": "display_data",
          "data": {
            "image/png": "[encoded data removed]",
            "text/plain": [
              "<Figure size 432x288 with 4 Axes>"
            ]
          },
          "metadata": {
            "tags": [],
            "needs_background": "light"
          }
        }
      ]
    },
    {
      "cell_type": "code",
      "metadata": {
        "id": "Gvsc2x4kT8HQ"
      },
      "source": [
        "copy_df = df\r\n",
        "f_names =set(copy_df['Facility Name'])\r\n"
      ],
      "execution_count": 8,
      "outputs": []
    },
    {
      "cell_type": "code",
      "metadata": {
        "colab": {
          "base_uri": "https://localhost:8080/"
        },
        "id": "aQdJ_TOvJy29",
        "outputId": "d9a1dae4-a509-4f79-f094-65a16b68f7f2"
      },
      "source": [
        "for col in copy_df.columns:\r\n",
        "  print(col)"
      ],
      "execution_count": 9,
      "outputs": [
        {
          "output_type": "stream",
          "text": [
            "Facility Name\n",
            "KW Rating\n",
            "KWH Generated\n",
            "Date\n",
            "Generated\n",
            "Address / Location\n"
          ],
          "name": "stdout"
        }
      ]
    },
    {
      "cell_type": "code",
      "metadata": {
        "id": "GycE7dskKyiZ"
      },
      "source": [
        "trimmed_df=copy_df.drop(['Date','Address / Location'],axis=1)"
      ],
      "execution_count": 10,
      "outputs": []
    },
    {
      "cell_type": "code",
      "metadata": {
        "colab": {
          "base_uri": "https://localhost:8080/",
          "height": 424
        },
        "id": "ZQ2lXgwNXEzt",
        "outputId": "daf1a64a-8c33-4ff0-b480-63cb70471546"
      },
      "source": [
        "trimmed_df"
      ],
      "execution_count": 11,
      "outputs": [
        {
          "output_type": "execute_result",
          "data": {
            "text/html": [
              "<div>\n",
              "<style scoped>\n",
              "    .dataframe tbody tr th:only-of-type {\n",
              "        vertical-align: middle;\n",
              "    }\n",
              "\n",
              "    .dataframe tbody tr th {\n",
              "        vertical-align: top;\n",
              "    }\n",
              "\n",
              "    .dataframe thead th {\n",
              "        text-align: right;\n",
              "    }\n",
              "</style>\n",
              "<table border=\"1\" class=\"dataframe\">\n",
              "  <thead>\n",
              "    <tr style=\"text-align: right;\">\n",
              "      <th></th>\n",
              "      <th>Facility Name</th>\n",
              "      <th>KW Rating</th>\n",
              "      <th>KWH Generated</th>\n",
              "      <th>Generated</th>\n",
              "    </tr>\n",
              "  </thead>\n",
              "  <tbody>\n",
              "    <tr>\n",
              "      <th>0</th>\n",
              "      <td>Veterans Memorial Community Center</td>\n",
              "      <td>116.2</td>\n",
              "      <td>218498</td>\n",
              "      <td>22603</td>\n",
              "    </tr>\n",
              "    <tr>\n",
              "      <th>1</th>\n",
              "      <td>Veterans Memorial Community Center</td>\n",
              "      <td>116.2</td>\n",
              "      <td>218498</td>\n",
              "      <td>23330</td>\n",
              "    </tr>\n",
              "    <tr>\n",
              "      <th>2</th>\n",
              "      <td>Veterans Memorial Community Center</td>\n",
              "      <td>116.2</td>\n",
              "      <td>218498</td>\n",
              "      <td>17678</td>\n",
              "    </tr>\n",
              "    <tr>\n",
              "      <th>3</th>\n",
              "      <td>Veterans Memorial Community Center</td>\n",
              "      <td>116.2</td>\n",
              "      <td>218498</td>\n",
              "      <td>14427</td>\n",
              "    </tr>\n",
              "    <tr>\n",
              "      <th>4</th>\n",
              "      <td>Veterans Memorial Community Center</td>\n",
              "      <td>116.2</td>\n",
              "      <td>218498</td>\n",
              "      <td>10828</td>\n",
              "    </tr>\n",
              "    <tr>\n",
              "      <th>...</th>\n",
              "      <td>...</td>\n",
              "      <td>...</td>\n",
              "      <td>...</td>\n",
              "      <td>...</td>\n",
              "    </tr>\n",
              "    <tr>\n",
              "      <th>377</th>\n",
              "      <td>Ed Fountain Park</td>\n",
              "      <td>144.5</td>\n",
              "      <td>151050</td>\n",
              "      <td>20100</td>\n",
              "    </tr>\n",
              "    <tr>\n",
              "      <th>378</th>\n",
              "      <td>Durango Hills Community Center S</td>\n",
              "      <td>33.6</td>\n",
              "      <td>45246</td>\n",
              "      <td>2832</td>\n",
              "    </tr>\n",
              "    <tr>\n",
              "      <th>379</th>\n",
              "      <td>Fire Station 44</td>\n",
              "      <td>30.0</td>\n",
              "      <td>57914</td>\n",
              "      <td>6012</td>\n",
              "    </tr>\n",
              "    <tr>\n",
              "      <th>380</th>\n",
              "      <td>Centennial Hills Park</td>\n",
              "      <td>30.1</td>\n",
              "      <td>38876</td>\n",
              "      <td>4998</td>\n",
              "    </tr>\n",
              "    <tr>\n",
              "      <th>381</th>\n",
              "      <td>West Yard - Operations-Maintenance</td>\n",
              "      <td>79.3</td>\n",
              "      <td>146880</td>\n",
              "      <td>10960</td>\n",
              "    </tr>\n",
              "  </tbody>\n",
              "</table>\n",
              "<p>382 rows × 4 columns</p>\n",
              "</div>"
            ],
            "text/plain": [
              "                          Facility Name  KW Rating  KWH Generated  Generated\n",
              "0    Veterans Memorial Community Center      116.2         218498      22603\n",
              "1    Veterans Memorial Community Center      116.2         218498      23330\n",
              "2    Veterans Memorial Community Center      116.2         218498      17678\n",
              "3    Veterans Memorial Community Center      116.2         218498      14427\n",
              "4    Veterans Memorial Community Center      116.2         218498      10828\n",
              "..                                  ...        ...            ...        ...\n",
              "377                    Ed Fountain Park      144.5         151050      20100\n",
              "378    Durango Hills Community Center S       33.6          45246       2832\n",
              "379                     Fire Station 44       30.0          57914       6012\n",
              "380               Centennial Hills Park       30.1          38876       4998\n",
              "381  West Yard - Operations-Maintenance       79.3         146880      10960\n",
              "\n",
              "[382 rows x 4 columns]"
            ]
          },
          "metadata": {
            "tags": []
          },
          "execution_count": 11
        }
      ]
    },
    {
      "cell_type": "code",
      "metadata": {
        "colab": {
          "base_uri": "https://localhost:8080/"
        },
        "id": "astNSGI1s3_2",
        "outputId": "5fb55029-cb84-4dc9-b8bb-aff3a6e36113"
      },
      "source": [
        "#creating dictionary to replace the names for easier analysis\r\n",
        "list_loc = list(f_names)\r\n",
        "d_loc = {}\r\n",
        "ni = 0\r\n",
        "for i in list_loc:\r\n",
        "  d_loc[i] = ni\r\n",
        "  ni += 1\r\n",
        "print(d_loc)\r\n",
        "#print(f_names)"
      ],
      "execution_count": 12,
      "outputs": [
        {
          "output_type": "stream",
          "text": [
            "{'Veterans Memorial Community Center': 0, 'East Yard - Main Gate 1': 1, 'Fire Station 10': 2, 'Rainbow Park': 3, 'Ed Fountain Park': 4, 'Mirabelli Community Center': 5, 'West Yard - Vehicle Services': 6, 'East Yard - Fire Equipment Center': 7, 'East Yard - Sign Shop': 8, 'Stupak Community Center': 9, 'Fire Station 48': 10, 'Fire Station 7': 11, 'All American Park': 12, 'Lorenzi Park': 13, 'West Yard - EOC': 14, 'Centennial Hills Community Center N & S': 15, 'East Las Vegas Community Center': 16, 'Fire Station 106': 17, 'WPCF Plant': 18, 'Fire Station 43': 19, 'Fire Station 45': 20, 'Fire Station 107': 21, 'Fire Station 41': 22, 'Fire Station 6': 23, 'Fire Station 8': 24, 'Durango Hills Community Center S': 25, 'Centennial Hills Park': 26, 'Fire Station 5': 27, 'West Yard - Operations-Maintenance': 28, 'Natural History Museum': 29, 'Fire Station 44': 30}\n"
          ],
          "name": "stdout"
        }
      ]
    },
    {
      "cell_type": "code",
      "metadata": {
        "colab": {
          "base_uri": "https://localhost:8080/"
        },
        "id": "-jhtFVqG7Cyn",
        "outputId": "fbc4784f-0526-4583-98e4-58e09f6b7d27"
      },
      "source": [
        "len(d_loc.keys())"
      ],
      "execution_count": 13,
      "outputs": [
        {
          "output_type": "execute_result",
          "data": {
            "text/plain": [
              "31"
            ]
          },
          "metadata": {
            "tags": []
          },
          "execution_count": 13
        }
      ]
    },
    {
      "cell_type": "code",
      "metadata": {
        "id": "3T7lInbPpEEz"
      },
      "source": [
        "test_df = trimmed_df"
      ],
      "execution_count": 14,
      "outputs": []
    },
    {
      "cell_type": "code",
      "metadata": {
        "colab": {
          "base_uri": "https://localhost:8080/"
        },
        "id": "f5mIykVynyyY",
        "outputId": "3bf29ec2-202d-468b-d010-518c4f686c1a"
      },
      "source": [
        "nest_d = {'Facility Name':d_loc}\r\n",
        "print(nest_d)"
      ],
      "execution_count": 15,
      "outputs": [
        {
          "output_type": "stream",
          "text": [
            "{'Facility Name': {'Veterans Memorial Community Center': 0, 'East Yard - Main Gate 1': 1, 'Fire Station 10': 2, 'Rainbow Park': 3, 'Ed Fountain Park': 4, 'Mirabelli Community Center': 5, 'West Yard - Vehicle Services': 6, 'East Yard - Fire Equipment Center': 7, 'East Yard - Sign Shop': 8, 'Stupak Community Center': 9, 'Fire Station 48': 10, 'Fire Station 7': 11, 'All American Park': 12, 'Lorenzi Park': 13, 'West Yard - EOC': 14, 'Centennial Hills Community Center N & S': 15, 'East Las Vegas Community Center': 16, 'Fire Station 106': 17, 'WPCF Plant': 18, 'Fire Station 43': 19, 'Fire Station 45': 20, 'Fire Station 107': 21, 'Fire Station 41': 22, 'Fire Station 6': 23, 'Fire Station 8': 24, 'Durango Hills Community Center S': 25, 'Centennial Hills Park': 26, 'Fire Station 5': 27, 'West Yard - Operations-Maintenance': 28, 'Natural History Museum': 29, 'Fire Station 44': 30}}\n"
          ],
          "name": "stdout"
        }
      ]
    },
    {
      "cell_type": "code",
      "metadata": {
        "id": "HkJOAQT3n8Xa"
      },
      "source": [
        "final_df = test_df.replace(to_replace = nest_d, value= None)"
      ],
      "execution_count": 16,
      "outputs": []
    },
    {
      "cell_type": "code",
      "metadata": {
        "colab": {
          "base_uri": "https://localhost:8080/",
          "height": 276
        },
        "id": "ov8zPPFqLH0J",
        "outputId": "2e6abb72-1711-4ea8-c3c8-bd75c1d6a04e"
      },
      "source": [
        "x1 = final_df['Facility Name']\r\n",
        "x2 = final_df['KWH Generated']\r\n",
        "plt.scatter(x1,x2)\r\n",
        "plt.show()"
      ],
      "execution_count": 17,
      "outputs": [
        {
          "output_type": "display_data",
          "data": {
            "image/png": "[encoded data removed]",
            "text/plain": [
              "<Figure size 432x288 with 1 Axes>"
            ]
          },
          "metadata": {
            "tags": [],
            "needs_background": "light"
          }
        }
      ]
    },
    {
      "cell_type": "code",
      "metadata": {
        "colab": {
          "base_uri": "https://localhost:8080/",
          "height": 265
        },
        "id": "13lrvofmLgMC",
        "outputId": "51c37e40-ecd1-42f5-bcd9-ed86efa1518e"
      },
      "source": [
        "x1 = final_df['Facility Name']\r\n",
        "x2 = final_df['Generated']\r\n",
        "plt.scatter(x1,x2)\r\n",
        "plt.show()\r\n"
      ],
      "execution_count": 18,
      "outputs": [
        {
          "output_type": "display_data",
          "data": {
            "image/png": "[encoded data removed]",
            "text/plain": [
              "<Figure size 432x288 with 1 Axes>"
            ]
          },
          "metadata": {
            "tags": [],
            "needs_background": "light"
          }
        }
      ]
    },
    {
      "cell_type": "markdown",
      "metadata": {
        "id": "UKBC9qjWTmNU"
      },
      "source": [
        "final_df should be used from this point onwards.\r\n",
        "Facitlity name is the dependent variable."
      ]
    },
    {
      "cell_type": "markdown",
      "metadata": {
        "id": "G3tL2W82TEqJ"
      },
      "source": [
        "# Training a model"
      ]
    },
    {
      "cell_type": "code",
      "metadata": {
        "colab": {
          "base_uri": "https://localhost:8080/"
        },
        "id": "e4rsjZFkTI8f",
        "outputId": "b9e2e120-319a-4f47-ae35-9bd2e1ab869b"
      },
      "source": [
        "\r\n",
        "array = final_df.values\r\n",
        "print(array)\r\n"
      ],
      "execution_count": 19,
      "outputs": [
        {
          "output_type": "stream",
          "text": [
            "[[0.00000e+00 1.16200e+02 2.18498e+05 2.26030e+04]\n",
            " [0.00000e+00 1.16200e+02 2.18498e+05 2.33300e+04]\n",
            " [0.00000e+00 1.16200e+02 2.18498e+05 1.76780e+04]\n",
            " ...\n",
            " [3.00000e+01 3.00000e+01 5.79140e+04 6.01200e+03]\n",
            " [2.60000e+01 3.01000e+01 3.88760e+04 4.99800e+03]\n",
            " [2.80000e+01 7.93000e+01 1.46880e+05 1.09600e+04]]\n"
          ],
          "name": "stdout"
        }
      ]
    },
    {
      "cell_type": "code",
      "metadata": {
        "id": "xSWl93cJTyI4",
        "colab": {
          "base_uri": "https://localhost:8080/"
        },
        "outputId": "593bd29f-93c2-4ad3-b865-34e293ba2f1b"
      },
      "source": [
        "final_df.shape"
      ],
      "execution_count": 20,
      "outputs": [
        {
          "output_type": "execute_result",
          "data": {
            "text/plain": [
              "(382, 4)"
            ]
          },
          "metadata": {
            "tags": []
          },
          "execution_count": 20
        }
      ]
    },
    {
      "cell_type": "markdown",
      "metadata": {
        "id": "nWW0kIqDMloK"
      },
      "source": [
        "To find the optimal numbers of clusters for applying K means, we are applying 'Elbow method'"
      ]
    },
    {
      "cell_type": "code",
      "metadata": {
        "id": "HfqtUFsBMsJw"
      },
      "source": [
        "X = final_df\r\n"
      ],
      "execution_count": 21,
      "outputs": []
    },
    {
      "cell_type": "code",
      "metadata": {
        "id": "hOicAw4xxfAQ"
      },
      "source": [
        "distortions = [] \r\n",
        "inertias = [] \r\n",
        "mapping1 = {} \r\n",
        "mapping2 = {} \r\n",
        "K = range(1,10) \r\n",
        "  \r\n",
        "for k in K: \r\n",
        "    #Building and fitting the model \r\n",
        "    kmeanModel = KMeans(n_clusters=k).fit(X) \r\n",
        "    kmeanModel.fit(X)     \r\n",
        "      \r\n",
        "    distortions.append(sum(np.min(cdist(X, kmeanModel.cluster_centers_, \r\n",
        "                      'euclidean'),axis=1)) / X.shape[0]) \r\n",
        "    inertias.append(kmeanModel.inertia_) \r\n",
        "  \r\n",
        "    mapping1[k] = sum(np.min(cdist(X, kmeanModel.cluster_centers_, \r\n",
        "                 'euclidean'),axis=1)) / X.shape[0] \r\n",
        "    mapping2[k] = kmeanModel.inertia_ \r\n",
        "\r\n"
      ],
      "execution_count": 22,
      "outputs": []
    },
    {
      "cell_type": "code",
      "metadata": {
        "colab": {
          "base_uri": "https://localhost:8080/"
        },
        "id": "zhV-20vfM1g9",
        "outputId": "48e35664-e4ea-4173-e0c1-e9d9ee2b2711"
      },
      "source": [
        "\r\n",
        "for key,val in mapping1.items(): \r\n",
        "    print(str(key)+' : '+str(val)) \r\n"
      ],
      "execution_count": 23,
      "outputs": [
        {
          "output_type": "stream",
          "text": [
            "1 : 537112.7601283487\n",
            "2 : 52534.974475746196\n",
            "3 : 25268.339106360083\n",
            "4 : 21728.46716046131\n",
            "5 : 16799.946254911756\n",
            "6 : 12279.727529685666\n",
            "7 : 11663.29029253217\n",
            "8 : 11119.40215989691\n",
            "9 : 9327.978115062548\n"
          ],
          "name": "stdout"
        }
      ]
    },
    {
      "cell_type": "code",
      "metadata": {
        "colab": {
          "base_uri": "https://localhost:8080/",
          "height": 295
        },
        "id": "HEDxQzCWM4I_",
        "outputId": "a1c4056a-79b2-421c-e695-898594551b99"
      },
      "source": [
        "\r\n",
        "plt.plot(K, distortions, 'bx-') \r\n",
        "plt.xlabel('Values of K') \r\n",
        "plt.ylabel('Distortion') \r\n",
        "plt.title('The Elbow Method using Distortion') \r\n",
        "plt.show() \r\n"
      ],
      "execution_count": 24,
      "outputs": [
        {
          "output_type": "display_data",
          "data": {
            "image/png": "[encoded data removed]",
            "text/plain": [
              "<Figure size 432x288 with 1 Axes>"
            ]
          },
          "metadata": {
            "tags": [],
            "needs_background": "light"
          }
        }
      ]
    },
    {
      "cell_type": "markdown",
      "metadata": {
        "id": "BtoPDMgENCWO"
      },
      "source": [
        "The value of K should be 2, as evident from the above graph"
      ]
    },
    {
      "cell_type": "code",
      "metadata": {
        "colab": {
          "base_uri": "https://localhost:8080/"
        },
        "id": "nlwGJWW2M6Z9",
        "outputId": "5d146875-7f36-4dc4-a1eb-c2ffea117ff1"
      },
      "source": [
        "kmean = KMeans(n_clusters = 2,n_init=10,max_iter=300)\r\n",
        "kmean.fit(X)"
      ],
      "execution_count": 25,
      "outputs": [
        {
          "output_type": "execute_result",
          "data": {
            "text/plain": [
              "KMeans(algorithm='auto', copy_x=True, init='k-means++', max_iter=300,\n",
              "       n_clusters=2, n_init=10, n_jobs=None, precompute_distances='auto',\n",
              "       random_state=None, tol=0.0001, verbose=0)"
            ]
          },
          "metadata": {
            "tags": []
          },
          "execution_count": 25
        }
      ]
    },
    {
      "cell_type": "code",
      "metadata": {
        "colab": {
          "base_uri": "https://localhost:8080/"
        },
        "id": "6Tisr-BHWcq3",
        "outputId": "989add0a-882f-4bed-cb4b-b3ca4f606192"
      },
      "source": [
        "kmean.inertia_"
      ],
      "execution_count": 26,
      "outputs": [
        {
          "output_type": "execute_result",
          "data": {
            "text/plain": [
              "1607276942472.4385"
            ]
          },
          "metadata": {
            "tags": []
          },
          "execution_count": 26
        }
      ]
    },
    {
      "cell_type": "code",
      "metadata": {
        "colab": {
          "base_uri": "https://localhost:8080/"
        },
        "id": "YcMvXep_uMDs",
        "outputId": "800d8503-d3fe-4819-9c79-5a104b36d7cd"
      },
      "source": [
        "kmean.cluster_centers_"
      ],
      "execution_count": 27,
      "outputs": [
        {
          "output_type": "execute_result",
          "data": {
            "text/plain": [
              "array([[1.47486339e+01, 5.80918033e+01, 9.32062951e+04, 8.37138525e+03],\n",
              "       [1.80000000e+01, 3.33400000e+03, 6.75953900e+06, 5.78707312e+05]])"
            ]
          },
          "metadata": {
            "tags": []
          },
          "execution_count": 27
        }
      ]
    },
    {
      "cell_type": "code",
      "metadata": {
        "colab": {
          "base_uri": "https://localhost:8080/"
        },
        "id": "Y7d1XoXWWhOa",
        "outputId": "694933e9-a020-4342-e785-3971fc24b8f0"
      },
      "source": [
        "kmean.n_iter_"
      ],
      "execution_count": 28,
      "outputs": [
        {
          "output_type": "execute_result",
          "data": {
            "text/plain": [
              "2"
            ]
          },
          "metadata": {
            "tags": []
          },
          "execution_count": 28
        }
      ]
    },
    {
      "cell_type": "code",
      "metadata": {
        "colab": {
          "base_uri": "https://localhost:8080/"
        },
        "id": "q0iHcjAB3O-i",
        "outputId": "8cb17bab-73ee-40f7-c682-15a55c6f7780"
      },
      "source": [
        "kmean.labels_"
      ],
      "execution_count": 29,
      "outputs": [
        {
          "output_type": "execute_result",
          "data": {
            "text/plain": [
              "array([0, 0, 0, 0, 0, 0, 0, 0, 0, 0, 0, 0, 0, 0, 0, 0, 0, 0, 0, 0, 0, 0,\n",
              "       0, 0, 0, 0, 0, 0, 0, 0, 0, 0, 0, 0, 0, 0, 0, 0, 0, 0, 0, 0, 0, 0,\n",
              "       0, 0, 0, 0, 0, 0, 0, 0, 0, 0, 0, 0, 0, 0, 0, 0, 0, 0, 0, 0, 0, 0,\n",
              "       0, 0, 0, 0, 0, 0, 0, 0, 0, 0, 0, 0, 0, 0, 0, 0, 0, 0, 0, 0, 0, 0,\n",
              "       0, 0, 0, 0, 0, 0, 0, 0, 0, 0, 0, 0, 0, 0, 0, 0, 0, 0, 0, 0, 0, 0,\n",
              "       0, 0, 0, 0, 0, 1, 1, 0, 0, 0, 0, 1, 0, 0, 0, 0, 0, 0, 0, 0, 0, 0,\n",
              "       0, 0, 0, 0, 0, 1, 0, 0, 0, 0, 0, 0, 0, 0, 0, 0, 1, 0, 0, 0, 0, 0,\n",
              "       0, 0, 0, 0, 0, 0, 0, 0, 0, 0, 0, 0, 0, 0, 0, 0, 0, 0, 0, 0, 0, 0,\n",
              "       0, 0, 0, 0, 0, 0, 0, 0, 0, 0, 0, 0, 0, 0, 0, 0, 0, 0, 0, 0, 0, 0,\n",
              "       0, 0, 0, 0, 0, 0, 0, 0, 0, 0, 0, 0, 0, 0, 0, 0, 0, 0, 0, 0, 0, 0,\n",
              "       1, 0, 1, 0, 0, 0, 0, 1, 0, 0, 0, 0, 0, 0, 0, 0, 0, 1, 0, 0, 0, 0,\n",
              "       0, 0, 0, 0, 0, 0, 0, 0, 0, 0, 0, 0, 0, 0, 0, 0, 0, 0, 0, 0, 0, 0,\n",
              "       0, 0, 0, 0, 0, 0, 0, 0, 0, 0, 0, 0, 0, 1, 1, 0, 0, 0, 0, 0, 0, 0,\n",
              "       0, 0, 0, 0, 0, 0, 0, 0, 0, 0, 0, 0, 1, 1, 0, 0, 0, 0, 0, 0, 0, 0,\n",
              "       0, 0, 0, 0, 0, 0, 0, 0, 0, 0, 0, 0, 0, 0, 0, 0, 0, 0, 0, 0, 1, 0,\n",
              "       0, 0, 0, 0, 0, 0, 0, 0, 0, 0, 0, 0, 0, 0, 0, 0, 1, 0, 0, 0, 0, 0,\n",
              "       0, 0, 0, 1, 0, 0, 0, 0, 0, 0, 0, 0, 0, 0, 0, 0, 0, 0, 0, 0, 0, 0,\n",
              "       0, 0, 0, 0, 0, 0, 0, 0], dtype=int32)"
            ]
          },
          "metadata": {
            "tags": []
          },
          "execution_count": 29
        }
      ]
    },
    {
      "cell_type": "code",
      "metadata": {
        "colab": {
          "base_uri": "https://localhost:8080/",
          "height": 640
        },
        "id": "f0vqOJXO3Qsn",
        "outputId": "38c53589-b2bd-4a5e-e3b9-0fade46c735f"
      },
      "source": [
        "wcss = []\r\n",
        "for i in range(1,20):\r\n",
        " kmeans = KMeans(n_clusters=i,init='k-means++',max_iter=300,n_init=10,random_state=0)\r\n",
        " kmeans.fit(X)\r\n",
        " wcss.append(kmeans.inertia_)\r\n",
        " print(\"Cluster\", i, \"Inertia\", kmeans.inertia_)\r\n",
        "plt.plot(range(1,20),wcss)\r\n",
        "plt.title(\"The Elbow Curve\")\r\n",
        "plt.xlabel(\"Number of clusters\")\r\n",
        "plt.ylabel(\"WCSS\") ##WCSS stands for total within-cluster sum of square\r\n",
        "plt.show()"
      ],
      "execution_count": 30,
      "outputs": [
        {
          "output_type": "stream",
          "text": [
            "Cluster 1 Inertia 687852072984489.9\n",
            "Cluster 2 Inertia 1607276942472.4385\n",
            "Cluster 3 Inertia 627783396337.0122\n",
            "Cluster 4 Inertia 284523705446.0082\n",
            "Cluster 5 Inertia 185582727280.13818\n",
            "Cluster 6 Inertia 126188271253.20326\n",
            "Cluster 7 Inertia 95348341879.90352\n",
            "Cluster 8 Inertia 71080577427.6335\n",
            "Cluster 9 Inertia 55662633603.48311\n",
            "Cluster 10 Inertia 46772885400.30886\n",
            "Cluster 11 Inertia 38202472594.56348\n",
            "Cluster 12 Inertia 29061537058.364597\n",
            "Cluster 13 Inertia 22288362900.172997\n",
            "Cluster 14 Inertia 18938651650.172997\n",
            "Cluster 15 Inertia 16639670318.52809\n",
            "Cluster 16 Inertia 14222015955.28868\n",
            "Cluster 17 Inertia 11779618783.622013\n",
            "Cluster 18 Inertia 10499786089.749763\n",
            "Cluster 19 Inertia 8932703368.738338\n"
          ],
          "name": "stdout"
        },
        {
          "output_type": "display_data",
          "data": {
            "image/png": "[encoded data removed]",
            "text/plain": [
              "<Figure size 432x288 with 1 Axes>"
            ]
          },
          "metadata": {
            "tags": [],
            "needs_background": "light"
          }
        }
      ]
    },
    {
      "cell_type": "markdown",
      "metadata": {
        "id": "huWtAfOmURsb"
      },
      "source": [
        "## TRYING FROM :\r\n",
        "https://realpython.com/k-means-clustering-python/"
      ]
    },
    {
      "cell_type": "markdown",
      "metadata": {
        "id": "eQ4adLelUbO7"
      },
      "source": [
        "Elbow method:"
      ]
    },
    {
      "cell_type": "code",
      "metadata": {
        "id": "nvCS5tIaUWZN"
      },
      "source": [
        "kmeans_kwargs = {\"init\":\"random\",\"n_init\":10,\"max_iter\":300,\"random_state\":42}\r\n",
        "sse = []\r\n",
        "for k in range(1,11):\r\n",
        "  kmeans= KMeans(n_clusters = k,**kmeans_kwargs)\r\n",
        "  kmeans.fit(final_df)\r\n",
        "  sse.append(kmeans.inertia_)"
      ],
      "execution_count": 31,
      "outputs": []
    },
    {
      "cell_type": "code",
      "metadata": {
        "colab": {
          "base_uri": "https://localhost:8080/",
          "height": 318
        },
        "id": "KvKTBXXuUzlQ",
        "outputId": "c3c02a6b-817b-4c05-8654-213099fad031"
      },
      "source": [
        "plt.style.use(\"fivethirtyeight\")\r\n",
        "plt.plot(range(1,11),sse)\r\n",
        "plt.xticks(range(1,11))\r\n",
        "plt.xlabel(\"Number of clusters\")\r\n",
        "plt.ylabel(\"SSE\")\r\n",
        "plt.show()"
      ],
      "execution_count": 32,
      "outputs": [
        {
          "output_type": "display_data",
          "data": {
            "image/png": "[encoded data removed]",
            "text/plain": [
              "<Figure size 432x288 with 1 Axes>"
            ]
          },
          "metadata": {
            "tags": []
          }
        }
      ]
    },
    {
      "cell_type": "markdown",
      "metadata": {
        "id": "gG3WavgKVMLh"
      },
      "source": [
        "\r\n",
        "Silhouette coefficient"
      ]
    },
    {
      "cell_type": "code",
      "metadata": {
        "id": "8fVJEMtiXSBl"
      },
      "source": [
        "from sklearn.metrics import silhouette_score"
      ],
      "execution_count": 33,
      "outputs": []
    },
    {
      "cell_type": "code",
      "metadata": {
        "id": "f5Zzt6OtVIKs"
      },
      "source": [
        "silhouette_coefficients = []\r\n",
        "for k in range(2,10):\r\n",
        "  kmean = KMeans(n_clusters=k,**kmeans_kwargs)\r\n",
        "  kmeans.fit(final_df)\r\n",
        "  score = silhouette_score(final_df,kmeans.labels_)\r\n",
        "  silhouette_coefficients.append(score)\r\n"
      ],
      "execution_count": 41,
      "outputs": []
    },
    {
      "cell_type": "code",
      "metadata": {
        "colab": {
          "base_uri": "https://localhost:8080/"
        },
        "id": "V6KEZEQnYZDF",
        "outputId": "4be1dc5c-f53f-4a11-dc97-8e4e1a49b0be"
      },
      "source": [
        "len(silhouette_coefficients)"
      ],
      "execution_count": 42,
      "outputs": [
        {
          "output_type": "execute_result",
          "data": {
            "text/plain": [
              "8"
            ]
          },
          "metadata": {
            "tags": []
          },
          "execution_count": 42
        }
      ]
    },
    {
      "cell_type": "code",
      "metadata": {
        "colab": {
          "base_uri": "https://localhost:8080/",
          "height": 304
        },
        "id": "A03s5DouXL96",
        "outputId": "a1ba9dd5-e0fa-4293-9520-ac30908ad33f"
      },
      "source": [
        "plt.style.use(\"fivethirtyeight\")\r\n",
        "plt.plot(range(2,10),silhouette_coefficients)\r\n",
        "plt.xticks(range(2,10))\r\n",
        "plt.xlabel(\"Number of clusters\")\r\n",
        "plt.ylabel(\"Silhouette Coefficient\")\r\n",
        "plt.show()"
      ],
      "execution_count": 43,
      "outputs": [
        {
          "output_type": "display_data",
          "data": {
            "image/png": "[encoded data removed]",
            "text/plain": [
              "<Figure size 432x288 with 1 Axes>"
            ]
          },
          "metadata": {
            "tags": []
          }
        }
      ]
    },
    {
      "cell_type": "code",
      "metadata": {
        "id": "0OtXtnioXo78"
      },
      "source": [
        ""
      ],
      "execution_count": null,
      "outputs": []
    }
  ]
}